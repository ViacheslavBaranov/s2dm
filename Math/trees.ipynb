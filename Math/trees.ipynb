{
 "cells": [
  {
   "cell_type": "code",
   "execution_count": 1,
   "metadata": {},
   "outputs": [],
   "source": [
    "N = 6 # Vertexes"
   ]
  },
  {
   "cell_type": "code",
   "execution_count": 2,
   "metadata": {},
   "outputs": [],
   "source": [
    "R = [[\"\"] for i in range(N + 1)] #Trees with k vertexes"
   ]
  },
  {
   "cell_type": "code",
   "execution_count": 3,
   "metadata": {},
   "outputs": [],
   "source": [
    "R[1] = [\"\", \"\"]"
   ]
  },
  {
   "cell_type": "code",
   "execution_count": 4,
   "metadata": {},
   "outputs": [],
   "source": [
    "def inc_i(i, j, s, n):\n",
    "    i[s] += 1\n",
    "    if check(i, j, n):\n",
    "        return True\n",
    "    i[s] -= 1\n",
    "    return False\n",
    "def inc_j(i, j, s, n):\n",
    "    j[s] += 1\n",
    "    if check(i, j, n):\n",
    "        return True\n",
    "    j[s] -= 1\n",
    "    return False\n",
    "\n",
    "def check(i, j, n):\n",
    "    if not (1 <= i[1] and i[1] <= n - 1):\n",
    "        return False\n",
    "    if not (1 <= j[1] and j[1] <= len(R[i[1]]) - 1):\n",
    "        return False\n",
    "    psum = i[1]\n",
    "    for s in range(2, n):\n",
    "        if not(i[s] <= min(i[s - 1], n - 1 - psum)):\n",
    "            return False\n",
    "        psum += i[s]\n",
    "        if i[s] == i[s - 1]:\n",
    "            if not(j[s] <= j[s - 1]):\n",
    "                return False\n",
    "        else:\n",
    "            if not(j[s] <= len(R[i[s]]) - 1):\n",
    "                return False\n",
    "    return True"
   ]
  },
  {
   "cell_type": "code",
   "execution_count": 5,
   "metadata": {},
   "outputs": [
    {
     "name": "stdout",
     "output_type": "stream",
     "text": [
      "['', '1010101010', '1101010100', '1110101000', '1111010000', '1111100000']\n"
     ]
    }
   ],
   "source": [
    "def solve(n):\n",
    "    if n == 1:\n",
    "        return R[n]\n",
    "    solve(n - 1)\n",
    "    rec([0] + [1 for i in range(n - 1)], [0] + [1 for i in range(n - 1)], n - 1, n)\n",
    "    return R[n]\n",
    "\n",
    "def rec(i, j, s, n):\n",
    "    if s == 0:\n",
    "        return\n",
    "    if sum(i) == n - 1:\n",
    "        R[n].append(\"\".join([\"1\" + R[i[S]][j[S]] + \"0\" for S in range(1, s + 1)]))\n",
    "        #print(R)\n",
    "        #print(i[1:])\n",
    "        #print(j[1:])\n",
    "    while inc_i(i, j, s, n):\n",
    "        if sum(i) == n - 1:\n",
    "            R[n].append(\"\".join([\"1\" + R[i[S]][j[S]] + \"0\" for S in range(1,s + 1)]))\n",
    "            #print(R)\n",
    "            #print(i[1:])\n",
    "            #print(j[1:])    \n",
    "    while inc_j(i, j, s, n):\n",
    "        if sum(i) == n - 1:\n",
    "            R[n].append(\"\".join([\"1\" + R[i[S]][j[S]] + \"0\" for S in range(1, s + 1)]))\n",
    "            #print(R)\n",
    "            #print(i[1:])\n",
    "            #print(j[1:])\n",
    "    i[s] = j[s] = 0\n",
    "    rec(i, j, s - 1, n)\n",
    "\n",
    "print(solve(N))"
   ]
  },
  {
   "cell_type": "code",
   "execution_count": null,
   "metadata": {},
   "outputs": [],
   "source": []
  }
 ],
 "metadata": {
  "kernelspec": {
   "display_name": "Python 3",
   "language": "python",
   "name": "python3"
  },
  "language_info": {
   "codemirror_mode": {
    "name": "ipython",
    "version": 3
   },
   "file_extension": ".py",
   "mimetype": "text/x-python",
   "name": "python",
   "nbconvert_exporter": "python",
   "pygments_lexer": "ipython3",
   "version": "3.8.10"
  }
 },
 "nbformat": 4,
 "nbformat_minor": 4
}
