{
 "cells": [
  {
   "cell_type": "code",
   "execution_count": 1,
   "metadata": {},
   "outputs": [],
   "source": [
    "import networkx as nx"
   ]
  },
  {
   "cell_type": "code",
   "execution_count": 2,
   "metadata": {},
   "outputs": [],
   "source": [
    "import numpy as np\n",
    "import matplotlib.pyplot as plt\n",
    "%matplotlib inline"
   ]
  },
  {
   "cell_type": "code",
   "execution_count": 3,
   "metadata": {},
   "outputs": [],
   "source": [
    "A = np.matrix([\n",
    "    [0, 1, 3, 4],\n",
    "    [1, 0, 2, 0],\n",
    "    [3, 2, 0, 1],\n",
    "    [4, 0, 1, 0]\n",
    "])\n",
    "\n",
    "B = np.matrix([\n",
    "    [0, 1, 2, 3],\n",
    "    [1, 0, 1, 2],\n",
    "    [2, 1, 0, 1],\n",
    "    [3, 2, 1, 0]\n",
    "])\n",
    "\n",
    "R = nx.from_numpy_matrix(A)\n",
    "D = nx.from_numpy_matrix(B)"
   ]
  },
  {
   "cell_type": "code",
   "execution_count": 4,
   "metadata": {},
   "outputs": [],
   "source": [
    "n = 4\n",
    "p = [-1 for i in range(n)]"
   ]
  },
  {
   "cell_type": "code",
   "execution_count": 5,
   "metadata": {},
   "outputs": [
    {
     "name": "stdout",
     "output_type": "stream",
     "text": [
      "0\n",
      "1\n",
      "8\n",
      "17\n",
      "17\n",
      "[1, 0, 2, 3]\n"
     ]
    }
   ],
   "source": [
    "def w_q(x, y):\n",
    "    #print(x, y)\n",
    "    a = np.array([0 if u not in R[x] else R[x][u]['weight'] for u in range(n) if u != x])\n",
    "    b = np.array([0 if u not in D[y] else D[y][u]['weight'] for u in range(n) if u != y])\n",
    "    a = np.sort(a)\n",
    "    b = np.sort(b)\n",
    "    a = np.flip(a)\n",
    "    #print(a)\n",
    "    #print(b)\n",
    "    #print(np.dot(a, b))\n",
    "    return np.dot(a, b)\n",
    "\n",
    "def v_q(x, y):\n",
    "    a = []\n",
    "    b = []\n",
    "    for u in range(n):\n",
    "        for v in range(u + 1, n):\n",
    "            if u != x and v != x:\n",
    "                a.append(0 if v not in R[u] else R[u][v]['weight'])\n",
    "            if u != y and v != y:\n",
    "                b.append(0 if v not in D[u] else D[u][v]['weight'])\n",
    "    #print(x, y)\n",
    "    a = np.asarray(a)\n",
    "    b = np.asarray(b)\n",
    "    a = np.sort(a)\n",
    "    a = np.flip(a)\n",
    "    b = np.sort(b)\n",
    "    #print(a)\n",
    "    #print(b)\n",
    "    #print(np.dot(a, b))\n",
    "    return np.dot(a, b)\n",
    "\n",
    "\n",
    "def calc(x, y):\n",
    "    return w_q(x, y) + v_q(x, y) + f_q()\n",
    "\n",
    "def f_q():\n",
    "    s = 0\n",
    "    for u in range(n):\n",
    "        if p[u] == -1:\n",
    "            continue\n",
    "        for v in R[u]:\n",
    "            if p[v] == -1 or v < u or p[v] not in D[p[u]]:\n",
    "                continue\n",
    "            s += R[u][v]['weight'] * D[p[u]][p[v]]['weight']\n",
    "    return s\n",
    "def next_best(i):\n",
    "    mn = 1e9\n",
    "    k = -1\n",
    "    for j in range(n):\n",
    "        if p[j] == -1:\n",
    "            if k == -1:\n",
    "                k = j\n",
    "            if calc(i, j) < calc(i, k):\n",
    "                k = j\n",
    "    p[k] = i\n",
    "    print(f_q())\n",
    "ans = 0\n",
    "for i in range(n):\n",
    "    next_best(i)\n",
    "print(f_q())\n",
    "print(p)"
   ]
  },
  {
   "cell_type": "code",
   "execution_count": null,
   "metadata": {},
   "outputs": [],
   "source": []
  },
  {
   "cell_type": "code",
   "execution_count": null,
   "metadata": {},
   "outputs": [],
   "source": []
  }
 ],
 "metadata": {
  "kernelspec": {
   "display_name": "Python 3",
   "language": "python",
   "name": "python3"
  },
  "language_info": {
   "codemirror_mode": {
    "name": "ipython",
    "version": 3
   },
   "file_extension": ".py",
   "mimetype": "text/x-python",
   "name": "python",
   "nbconvert_exporter": "python",
   "pygments_lexer": "ipython3",
   "version": "3.8.10"
  }
 },
 "nbformat": 4,
 "nbformat_minor": 4
}
